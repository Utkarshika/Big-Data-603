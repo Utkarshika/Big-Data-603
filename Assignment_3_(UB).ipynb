{
  "cells": [
    {
      "cell_type": "code",
      "execution_count": null,
      "metadata": {
        "colab": {
          "base_uri": "https://localhost:8080/"
        },
        "id": "toqhHfOG_XtI",
        "outputId": "d1629764-7341-4f4c-b2d5-6c25a499cbed"
      },
      "outputs": [
        {
          "output_type": "stream",
          "name": "stdout",
          "text": [
            "Looking in indexes: https://pypi.org/simple, https://us-python.pkg.dev/colab-wheels/public/simple/\n",
            "Collecting pyspark\n",
            "  Downloading pyspark-3.3.0.tar.gz (281.3 MB)\n",
            "\u001b[K     |████████████████████████████████| 281.3 MB 40 kB/s \n",
            "\u001b[?25hCollecting py4j==0.10.9.5\n",
            "  Downloading py4j-0.10.9.5-py2.py3-none-any.whl (199 kB)\n",
            "\u001b[K     |████████████████████████████████| 199 kB 56.7 MB/s \n",
            "\u001b[?25hBuilding wheels for collected packages: pyspark\n",
            "  Building wheel for pyspark (setup.py) ... \u001b[?25l\u001b[?25hdone\n",
            "  Created wheel for pyspark: filename=pyspark-3.3.0-py2.py3-none-any.whl size=281764026 sha256=603997b70377ef9e8b6e9f756b10b247353e4797e6908f771ad7736e6b075689\n",
            "  Stored in directory: /root/.cache/pip/wheels/7a/8e/1b/f73a52650d2e5f337708d9f6a1750d451a7349a867f928b885\n",
            "Successfully built pyspark\n",
            "Installing collected packages: py4j, pyspark\n",
            "Successfully installed py4j-0.10.9.5 pyspark-3.3.0\n"
          ]
        }
      ],
      "source": [
        "#install pyspark\n",
        "!pip install pyspark\n",
        "\n"
      ]
    },
    {
      "cell_type": "code",
      "execution_count": null,
      "metadata": {
        "colab": {
          "base_uri": "https://localhost:8080/"
        },
        "id": "QKdQATir_dXb",
        "outputId": "990d53d6-505b-4ec5-a53a-a1c79d12e854"
      },
      "outputs": [
        {
          "output_type": "stream",
          "name": "stdout",
          "text": [
            "Looking in indexes: https://pypi.org/simple, https://us-python.pkg.dev/colab-wheels/public/simple/\n",
            "Requirement already satisfied: pyspark[sql] in /usr/local/lib/python3.7/dist-packages (3.3.0)\n",
            "Requirement already satisfied: py4j==0.10.9.5 in /usr/local/lib/python3.7/dist-packages (from pyspark[sql]) (0.10.9.5)\n",
            "Requirement already satisfied: pyarrow>=1.0.0 in /usr/local/lib/python3.7/dist-packages (from pyspark[sql]) (6.0.1)\n",
            "Requirement already satisfied: pandas>=1.0.5 in /usr/local/lib/python3.7/dist-packages (from pyspark[sql]) (1.3.5)\n",
            "Requirement already satisfied: numpy>=1.17.3 in /usr/local/lib/python3.7/dist-packages (from pandas>=1.0.5->pyspark[sql]) (1.21.6)\n",
            "Requirement already satisfied: pytz>=2017.3 in /usr/local/lib/python3.7/dist-packages (from pandas>=1.0.5->pyspark[sql]) (2022.4)\n",
            "Requirement already satisfied: python-dateutil>=2.7.3 in /usr/local/lib/python3.7/dist-packages (from pandas>=1.0.5->pyspark[sql]) (2.8.2)\n",
            "Requirement already satisfied: six>=1.5 in /usr/local/lib/python3.7/dist-packages (from python-dateutil>=2.7.3->pandas>=1.0.5->pyspark[sql]) (1.15.0)\n",
            "Looking in indexes: https://pypi.org/simple, https://us-python.pkg.dev/colab-wheels/public/simple/\n",
            "Requirement already satisfied: pyspark[pandas_on_spark] in /usr/local/lib/python3.7/dist-packages (3.3.0)\n",
            "Requirement already satisfied: plotly in /usr/local/lib/python3.7/dist-packages (5.5.0)\n",
            "Requirement already satisfied: six in /usr/local/lib/python3.7/dist-packages (from plotly) (1.15.0)\n",
            "Requirement already satisfied: tenacity>=6.2.0 in /usr/local/lib/python3.7/dist-packages (from plotly) (8.1.0)\n",
            "Requirement already satisfied: py4j==0.10.9.5 in /usr/local/lib/python3.7/dist-packages (from pyspark[pandas_on_spark]) (0.10.9.5)\n",
            "Requirement already satisfied: pandas>=1.0.5 in /usr/local/lib/python3.7/dist-packages (from pyspark[pandas_on_spark]) (1.3.5)\n",
            "Requirement already satisfied: numpy>=1.15 in /usr/local/lib/python3.7/dist-packages (from pyspark[pandas_on_spark]) (1.21.6)\n",
            "Requirement already satisfied: pyarrow>=1.0.0 in /usr/local/lib/python3.7/dist-packages (from pyspark[pandas_on_spark]) (6.0.1)\n",
            "Requirement already satisfied: python-dateutil>=2.7.3 in /usr/local/lib/python3.7/dist-packages (from pandas>=1.0.5->pyspark[pandas_on_spark]) (2.8.2)\n",
            "Requirement already satisfied: pytz>=2017.3 in /usr/local/lib/python3.7/dist-packages (from pandas>=1.0.5->pyspark[pandas_on_spark]) (2022.4)\n"
          ]
        }
      ],
      "source": [
        "# Spark SQL\n",
        "!pip install pyspark[sql]\n",
        "# pandas API on Spark\n",
        "!pip install pyspark[pandas_on_spark] plotly"
      ]
    },
    {
      "cell_type": "markdown",
      "metadata": {
        "id": "Zrq4lOOsfTM5"
      },
      "source": [
        "### 1. Create a Spark session"
      ]
    },
    {
      "cell_type": "code",
      "execution_count": 107,
      "metadata": {
        "id": "hkcEgxEbBNTa"
      },
      "outputs": [],
      "source": [
        "from pyspark.sql import SparkSession\n",
        "spark = SparkSession.builder.appName(\"crime_analysis\").getOrCreate()"
      ]
    },
    {
      "cell_type": "markdown",
      "metadata": {
        "id": "6oq9NzZ_fTM6"
      },
      "source": [
        "### 2. Define the schema for loading the Chicago crime dataset"
      ]
    },
    {
      "cell_type": "code",
      "execution_count": 108,
      "metadata": {
        "id": "z99qBbRlHWqB"
      },
      "outputs": [],
      "source": [
        "from pyspark.sql.types import  (StructType, \n",
        "                                StructField, \n",
        "                                DateType, \n",
        "                                BooleanType,\n",
        "                                DoubleType,\n",
        "                                IntegerType,\n",
        "                                StringType,\n",
        "                               TimestampType)\n",
        "\n",
        "\n",
        "crimes_schema = StructType([StructField(\"ID\", StringType(), True),\n",
        "                            StructField(\"CaseNumber\", StringType(), True),\n",
        "                            StructField(\"Date\", StringType(), True ),\n",
        "                            StructField(\"Block\", StringType(), True),\n",
        "                            StructField(\"IUCR\", StringType(), True),\n",
        "                            StructField(\"PrimaryType\", StringType(), True  ),\n",
        "                            StructField(\"Description\", StringType(), True ),\n",
        "                            StructField(\"LocationDescription\", StringType(), True ),\n",
        "                            StructField(\"Arrest\", BooleanType(), True),\n",
        "                            StructField(\"Domestic\", BooleanType(), True),\n",
        "                            StructField(\"Beat\", StringType(), True),\n",
        "                            StructField(\"District\", StringType(), True),\n",
        "                            StructField(\"Ward\", StringType(), True),\n",
        "                            StructField(\"CommunityArea\", StringType(), True),\n",
        "                            StructField(\"FBICode\", StringType(), True ),\n",
        "                            StructField(\"XCoordinate\", DoubleType(), True),\n",
        "                            StructField(\"YCoordinate\", DoubleType(), True ),\n",
        "                            StructField(\"Year\", IntegerType(), True),\n",
        "                            StructField(\"UpdatedOn\", DateType(), True ),\n",
        "                            StructField(\"Latitude\", DoubleType(), True),\n",
        "                            StructField(\"Longitude\", DoubleType(), True),\n",
        "                            StructField(\"Location\", StringType(), True )\n",
        "                            ])"
      ]
    },
    {
      "cell_type": "markdown",
      "metadata": {
        "id": "VDiCs-ImfTM7"
      },
      "source": [
        "### 3. Load the Chicago crime data (you should get more than a million rows)"
      ]
    },
    {
      "cell_type": "code",
      "execution_count": 109,
      "metadata": {
        "id": "U_Mo18qyHn0G"
      },
      "outputs": [],
      "source": [
        "Chicago_crimes = spark.read.csv(\"Crimes_-_2001_to_Present.csv\",\n",
        "                       header = True, \n",
        "                        schema = crimes_schema)"
      ]
    },
    {
      "cell_type": "code",
      "execution_count": 110,
      "metadata": {
        "colab": {
          "base_uri": "https://localhost:8080/"
        },
        "id": "pGL2MADrfTM7",
        "outputId": "c1fe042c-dd9d-4046-ba9b-bac177c500f7"
      },
      "outputs": [
        {
          "output_type": "stream",
          "name": "stdout",
          "text": [
            " The crimes dataframe has 6579242 records\n"
          ]
        }
      ],
      "source": [
        "print(\" The crimes dataframe has {} records\".format(Chicago_crimes.count()))"
      ]
    },
    {
      "cell_type": "markdown",
      "source": [
        "Note: Some data was lost(couldn't figure out the reason). SO working with the number of records that were available\n"
      ],
      "metadata": {
        "id": "M8Pf2b8F7lec"
      }
    },
    {
      "cell_type": "markdown",
      "metadata": {
        "id": "w9Ppc4IefTM7"
      },
      "source": [
        "### 4. Clean the data:\n",
        "**a) Remove all null values.**\n"
      ]
    },
    {
      "cell_type": "code",
      "execution_count": 111,
      "metadata": {
        "colab": {
          "base_uri": "https://localhost:8080/"
        },
        "id": "m2tERKRUfTM7",
        "outputId": "b1ccaf58-119e-40d3-84f5-e851d4df8051"
      },
      "outputs": [
        {
          "output_type": "stream",
          "name": "stdout",
          "text": [
            "+---+----------+----+-----+----+-----------+-----------+-------------------+------+--------+----+--------+----+-------------+-------+-----------+-----------+----+---------+--------+---------+--------+\n",
            "| ID|CaseNumber|Date|Block|IUCR|PrimaryType|Description|LocationDescription|Arrest|Domestic|Beat|District|Ward|CommunityArea|FBICode|XCoordinate|YCoordinate|Year|UpdatedOn|Latitude|Longitude|Location|\n",
            "+---+----------+----+-----+----+-----------+-----------+-------------------+------+--------+----+--------+----+-------------+-------+-----------+-----------+----+---------+--------+---------+--------+\n",
            "+---+----------+----+-----+----+-----------+-----------+-------------------+------+--------+----+--------+----+-------------+-------+-----------+-----------+----+---------+--------+---------+--------+\n",
            "\n"
          ]
        }
      ],
      "source": [
        "Chicago_crimes.na.drop().show()"
      ]
    },
    {
      "cell_type": "markdown",
      "metadata": {
        "id": "wFatuup7fTM8"
      },
      "source": [
        "**b) Change 'Date' column data type**"
      ]
    },
    {
      "cell_type": "code",
      "execution_count": 157,
      "metadata": {
        "colab": {
          "base_uri": "https://localhost:8080/"
        },
        "id": "3GceZ4aofTM8",
        "outputId": "c7b945fe-c52c-4da3-bf9d-361cc94ee57c"
      },
      "outputs": [
        {
          "output_type": "stream",
          "name": "stdout",
          "text": [
            "+-------------------+\n",
            "|          Date&time|\n",
            "+-------------------+\n",
            "|2015-09-05 13:30:00|\n",
            "|2015-09-04 11:30:00|\n",
            "|2018-09-01 00:01:00|\n",
            "|2015-09-05 12:45:00|\n",
            "|2015-09-05 13:00:00|\n",
            "|2015-09-05 10:55:00|\n",
            "|2015-09-04 18:00:00|\n",
            "|2015-09-05 13:00:00|\n",
            "|2015-09-05 11:30:00|\n",
            "|2016-05-01 00:25:00|\n",
            "+-------------------+\n",
            "only showing top 10 rows\n",
            "\n"
          ]
        }
      ],
      "source": [
        "from datetime import datetime\n",
        "from pyspark.sql.functions import col,udf\n",
        "\n",
        "d_func =  udf(lambda x: datetime.strptime(x, '%m/%d/%Y %I:%M:%S %p'), TimestampType())\n",
        "Chicago_crimes = Chicago_crimes.withColumn('Date&time', d_func(col('Date'))).drop(\"Date\")\n",
        "\n",
        "Chicago_crimes.select(Chicago_crimes[\"Date&time\"]).show(10)"
      ]
    },
    {
      "cell_type": "markdown",
      "metadata": {
        "id": "bpdQeMozfTM8"
      },
      "source": [
        "### 5. Filter the data for last ten years."
      ]
    },
    {
      "cell_type": "code",
      "execution_count": 158,
      "metadata": {
        "id": "vX1JeykCfTM8"
      },
      "outputs": [],
      "source": [
        "from pyspark.sql.functions import *\n"
      ]
    },
    {
      "cell_type": "code",
      "execution_count": 159,
      "metadata": {
        "id": "nA6mFztyfTM8"
      },
      "outputs": [],
      "source": [
        "import pandas as pd\n",
        "from pyspark.sql import functions as F\n",
        "import datetime, time \n",
        "from pyspark.sql.functions import col\n"
      ]
    },
    {
      "cell_type": "code",
      "source": [
        "Chicago_crimes = Chicago_crimes.filter(Chicago_crimes.Year >= 2012) "
      ],
      "metadata": {
        "id": "TLMrvHNh-QaN"
      },
      "execution_count": 160,
      "outputs": []
    },
    {
      "cell_type": "code",
      "execution_count": 115,
      "metadata": {
        "id": "wJt_NQWGfTM8"
      },
      "outputs": [],
      "source": [
        "df_filter= new_df.filter(F.col(\"Date&time\").between('2012-01-01 00:00:00','2022-12-01 00:00:00'))"
      ]
    },
    {
      "cell_type": "code",
      "execution_count": 161,
      "metadata": {
        "colab": {
          "base_uri": "https://localhost:8080/"
        },
        "id": "f36wG4mlfTM8",
        "outputId": "428dc402-402d-43f4-96be-efdbd31aa501"
      },
      "outputs": [
        {
          "output_type": "stream",
          "name": "stdout",
          "text": [
            "+--------+----------+--------------------+----+------------------+--------------------+--------------------+------+--------+----+--------+----+-------------+-------+-----------+-----------+----+---------+------------+-------------+--------------------+----+-------------------+\n",
            "|      ID|CaseNumber|               Block|IUCR|       PrimaryType|         Description| LocationDescription|Arrest|Domestic|Beat|District|Ward|CommunityArea|FBICode|XCoordinate|YCoordinate|Year|UpdatedOn|    Latitude|    Longitude|            Location|hour|          Date&time|\n",
            "+--------+----------+--------------------+----+------------------+--------------------+--------------------+------+--------+----+--------+----+-------------+-------+-----------+-----------+----+---------+------------+-------------+--------------------+----+-------------------+\n",
            "|10224738|  HY411648|     043XX S WOOD ST|0486|           BATTERY|DOMESTIC BATTERY ...|           RESIDENCE| false|    true|0924|     009|  12|           61|    08B|  1165074.0|  1875917.0|2015|     null|41.815117282|-87.669999562|(41.815117282, -8...|null|2015-09-05 13:30:00|\n",
            "|10224739|  HY411615| 008XX N CENTRAL AVE|0870|             THEFT|      POCKET-PICKING|             CTA BUS| false|   false|1511|     015|  29|           25|     06|  1138875.0|  1904869.0|2015|     null|41.895080471|-87.765400451|(41.895080471, -8...|null|2015-09-04 11:30:00|\n",
            "|11646166|  JC213529|082XX S INGLESIDE...|0810|             THEFT|           OVER $500|           RESIDENCE| false|    true|0631|     006|   8|           44|     06|       null|       null|2018|     null|        null|         null|                null|null|2018-09-01 00:01:00|\n",
            "|10224740|  HY411595|   035XX W BARRY AVE|2023|         NARCOTICS|POSS: HEROIN(BRN/...|            SIDEWALK|  true|   false|1412|     014|  35|           21|     18|  1152037.0|  1920384.0|2015|     null|41.937405765|-87.716649687|(41.937405765, -8...|null|2015-09-05 12:45:00|\n",
            "|10224741|  HY411610| 0000X N LARAMIE AVE|0560|           ASSAULT|              SIMPLE|           APARTMENT| false|    true|1522|     015|  28|           25|    08A|  1141706.0|  1900086.0|2015|     null|41.881903443|-87.755121152|(41.881903443, -8...|null|2015-09-05 13:00:00|\n",
            "|10224742|  HY411435| 082XX S LOOMIS BLVD|0610|          BURGLARY|      FORCIBLE ENTRY|           RESIDENCE| false|   false|0614|     006|  21|           71|     05|  1168430.0|  1850165.0|2015|     null|41.744378879|-87.658430635|(41.744378879, -8...|null|2015-09-05 10:55:00|\n",
            "|10224743|  HY411629|021XX W CHURCHILL ST|0620|          BURGLARY|      UNLAWFUL ENTRY|    RESIDENCE-GARAGE| false|   false|1434|     014|  32|           24|     05|  1161628.0|  1912157.0|2015|     null|41.914635603|-87.681630909|(41.914635603, -8...|null|2015-09-04 18:00:00|\n",
            "|10224744|  HY411605|   025XX W CERMAK RD|0860|             THEFT|        RETAIL THEFT|  GROCERY FOOD STORE|  true|   false|1034|     010|  25|           31|     06|  1159734.0|  1889313.0|2015|     null|41.851988885|-87.689219118|(41.851988885, -8...|null|2015-09-05 13:00:00|\n",
            "|10224745|  HY411654|031XX W WASHINGTO...|0320|           ROBBERY|STRONGARM - NO WE...|              STREET| false|    true|1222|     012|  27|           27|     03|  1155536.0|  1900515.0|2015|     null| 41.88281374|-87.704325717|(41.88281374, -87...|null|2015-09-05 11:30:00|\n",
            "|11645836|  JC212333| 055XX S ROCKWELL ST|1153|DECEPTIVE PRACTICE|FINANCIAL IDENTIT...|                null| false|   false|0824|     008|  15|           63|     11|       null|       null|2016|     null|        null|         null|                null|null|2016-05-01 00:25:00|\n",
            "|10224746|  HY411662|  071XX S PULASKI RD|0820|             THEFT|      $500 AND UNDER|PARKING LOT/GARAG...| false|   false|0833|     008|  13|           65|     06|  1150938.0|  1857056.0|2015|     null|41.763647552|-87.722344693|(41.763647552, -8...|null|2015-09-05 14:00:00|\n",
            "|10224749|  HY411626|052XX N MILWAUKEE...|0460|           BATTERY|              SIMPLE|  SMALL RETAIL STORE| false|   false|1623|     016|  45|           11|    08B|  1137969.0|  1934340.0|2015|     null|41.975968415|-87.768014257|(41.975968415, -8...|null|2015-09-05 11:00:00|\n",
            "|10224750|  HY411632|    0000X W 103RD ST|2820|     OTHER OFFENSE|    TELEPHONE THREAT|           APARTMENT| false|    true|0512|     005|  34|           49|     26|  1177871.0|  1836676.0|2015|     null|41.707154919|-87.624244993|(41.707154919, -8...|null|2015-09-05 03:00:00|\n",
            "|10224751|  HY411566|     013XX E 47TH ST|0486|           BATTERY|DOMESTIC BATTERY ...|              STREET| false|    true|0222|     002|   4|           39|    08B|  1185907.0|  1874105.0|2015|     null|41.809678314|-87.593638934|(41.809678314, -8...|null|2015-09-05 12:50:00|\n",
            "|10224752|  HY411601| 020XX W SCHILLER ST|0810|             THEFT|           OVER $500|              STREET| false|   false|1424|     014|   1|           24|     06|  1162574.0|  1909428.0|2015|     null|41.907127255|-87.678232016|(41.907127255, -8...|null|2015-09-03 13:00:00|\n",
            "|10224753|  HY411489|  080XX S JUSTINE ST|0497|           BATTERY|AGGRAVATED DOMEST...|           APARTMENT| false|   false|0612|     006|  21|           71|    04B|  1167400.0|  1851512.0|2015|     null|41.748097343|-87.662166183|(41.748097343, -8...|null|2015-09-05 11:45:00|\n",
            "|10224754|  HY411656|007XX N LEAMINGTO...|1320|   CRIMINAL DAMAGE|          TO VEHICLE|              STREET| false|   false|1531|     015|  28|           25|     14|  1141889.0|  1904448.0|2015|     null|41.893869916|-87.754341096|(41.893869916, -8...|null|2015-09-05 13:30:00|\n",
            "|10224756|  HY410094|103XX S TORRENCE AVE|0620|          BURGLARY|      UNLAWFUL ENTRY|               OTHER| false|   false|0434|     004|  10|           51|     05|  1195508.0|  1836950.0|2015|     null|41.707490122|-87.559650325|(41.707490122, -8...|null|2015-07-08 00:00:00|\n",
            "|10224757|  HY411388|  088XX S PAULINA ST|0610|          BURGLARY|      FORCIBLE ENTRY|           RESIDENCE|  true|   false|2221|     022|  21|           71|     05|  1166554.0|  1846067.0|2015|     null|41.733173536|-87.665421067|(41.733173536, -8...|null|2015-09-05 09:55:00|\n",
            "|10224758|  HY411568|    059XX W GRACE ST|0486|           BATTERY|DOMESTIC BATTERY ...|              STREET| false|    true|1633|     016|  38|           15|    08B|  1136014.0|  1924656.0|2015|     null|41.949429769|-87.775435529|(41.949429769, -8...|null|2015-09-05 12:35:00|\n",
            "+--------+----------+--------------------+----+------------------+--------------------+--------------------+------+--------+----+--------+----+-------------+-------+-----------+-----------+----+---------+------------+-------------+--------------------+----+-------------------+\n",
            "only showing top 20 rows\n",
            "\n"
          ]
        }
      ],
      "source": [
        "Chicago_crimes.show()"
      ]
    },
    {
      "cell_type": "code",
      "execution_count": 162,
      "metadata": {
        "colab": {
          "base_uri": "https://localhost:8080/"
        },
        "id": "OGeWuXesfTM8",
        "outputId": "2b42de05-0b5f-4cb4-f826-3c3b1b271c31"
      },
      "outputs": [
        {
          "output_type": "stream",
          "name": "stdout",
          "text": [
            " The crimes dataframe has 1903194 records\n"
          ]
        }
      ],
      "source": [
        "print(\" The crimes dataframe has {} records\".format( Chicago_crimes.count()))"
      ]
    },
    {
      "cell_type": "markdown",
      "metadata": {
        "tags": [],
        "id": "b6f_GqmAfTM9"
      },
      "source": [
        "### 6. Remove all the records with the following crime types:\n",
        "\n",
        "#### - NON-CRIMINAL (SUBJECT SPECIFIED), OTHER OFFENSE, STALKING, NON - CRIMINAL,ARSON\n"
      ]
    },
    {
      "cell_type": "code",
      "execution_count": 164,
      "metadata": {
        "id": "fnrjMY6DfTM9",
        "outputId": "a57b63fe-bca3-4e90-9861-73905b78d9e1",
        "colab": {
          "base_uri": "https://localhost:8080/"
        }
      },
      "outputs": [
        {
          "output_type": "execute_result",
          "data": {
            "text/plain": [
              "['ID',\n",
              " 'CaseNumber',\n",
              " 'Block',\n",
              " 'IUCR',\n",
              " 'PrimaryType',\n",
              " 'Description',\n",
              " 'LocationDescription',\n",
              " 'Arrest',\n",
              " 'Domestic',\n",
              " 'Beat',\n",
              " 'District',\n",
              " 'Ward',\n",
              " 'CommunityArea',\n",
              " 'FBICode',\n",
              " 'XCoordinate',\n",
              " 'YCoordinate',\n",
              " 'Year',\n",
              " 'UpdatedOn',\n",
              " 'Latitude',\n",
              " 'Longitude',\n",
              " 'Location',\n",
              " 'hour',\n",
              " 'Date&time']"
            ]
          },
          "metadata": {},
          "execution_count": 164
        }
      ],
      "source": [
        "Chicago_crimes.columns"
      ]
    },
    {
      "cell_type": "code",
      "execution_count": 165,
      "metadata": {
        "id": "ag38EarmfTM9",
        "outputId": "c06a278d-016f-476f-86fd-30930c9eaff2",
        "colab": {
          "base_uri": "https://localhost:8080/"
        }
      },
      "outputs": [
        {
          "output_type": "stream",
          "name": "stdout",
          "text": [
            "+--------------------+\n",
            "|         PrimaryType|\n",
            "+--------------------+\n",
            "|OFFENSE INVOLVING...|\n",
            "|CRIMINAL SEXUAL A...|\n",
            "|            STALKING|\n",
            "|PUBLIC PEACE VIOL...|\n",
            "|           OBSCENITY|\n",
            "|NON-CRIMINAL (SUB...|\n",
            "|               ARSON|\n",
            "|            GAMBLING|\n",
            "|   CRIMINAL TRESPASS|\n",
            "|             ASSAULT|\n",
            "|      NON - CRIMINAL|\n",
            "|LIQUOR LAW VIOLATION|\n",
            "| MOTOR VEHICLE THEFT|\n",
            "|               THEFT|\n",
            "|             BATTERY|\n",
            "|             ROBBERY|\n",
            "|            HOMICIDE|\n",
            "|    PUBLIC INDECENCY|\n",
            "| CRIM SEXUAL ASSAULT|\n",
            "|   HUMAN TRAFFICKING|\n",
            "|        INTIMIDATION|\n",
            "|        PROSTITUTION|\n",
            "|  DECEPTIVE PRACTICE|\n",
            "|CONCEALED CARRY L...|\n",
            "|         SEX OFFENSE|\n",
            "|     CRIMINAL DAMAGE|\n",
            "|           NARCOTICS|\n",
            "|        NON-CRIMINAL|\n",
            "|       OTHER OFFENSE|\n",
            "|          KIDNAPPING|\n",
            "+--------------------+\n",
            "only showing top 30 rows\n",
            "\n"
          ]
        }
      ],
      "source": [
        "Chicago_crimes.select(\"PrimaryType\").distinct().show(n = 30)"
      ]
    },
    {
      "cell_type": "code",
      "execution_count": 166,
      "metadata": {
        "id": "QstUx7SgfTM9"
      },
      "outputs": [],
      "source": [
        "criminal_df = Chicago_crimes.filter((df_filter.PrimaryType!='NON-CRIMINAL') & \n",
        "                               (df_filter.PrimaryType!='NON - CRIMINAL')&  \n",
        "                               (df_filter.PrimaryType!='OTHER OFFENSE') & \n",
        "                               (df_filter.PrimaryType!='NON-CRIMINAL (SUBJECT SPECIFIED)') & \n",
        "                               (df_filter.PrimaryType!='STALKING') & \n",
        "                               (df_filter.PrimaryType!='ARSON'))"
      ]
    },
    {
      "cell_type": "code",
      "execution_count": 167,
      "metadata": {
        "id": "MuoAzy0gfTM9",
        "outputId": "170085cb-ddcf-4633-8b23-e37b7308cb8a",
        "colab": {
          "base_uri": "https://localhost:8080/"
        }
      },
      "outputs": [
        {
          "output_type": "stream",
          "name": "stdout",
          "text": [
            "+--------------------+\n",
            "|         PrimaryType|\n",
            "+--------------------+\n",
            "|OFFENSE INVOLVING...|\n",
            "|CRIMINAL SEXUAL A...|\n",
            "|PUBLIC PEACE VIOL...|\n",
            "|           OBSCENITY|\n",
            "|            GAMBLING|\n",
            "|   CRIMINAL TRESPASS|\n",
            "|             ASSAULT|\n",
            "|LIQUOR LAW VIOLATION|\n",
            "| MOTOR VEHICLE THEFT|\n",
            "|               THEFT|\n",
            "|             BATTERY|\n",
            "|             ROBBERY|\n",
            "|            HOMICIDE|\n",
            "|    PUBLIC INDECENCY|\n",
            "| CRIM SEXUAL ASSAULT|\n",
            "|   HUMAN TRAFFICKING|\n",
            "|        INTIMIDATION|\n",
            "|        PROSTITUTION|\n",
            "|  DECEPTIVE PRACTICE|\n",
            "|CONCEALED CARRY L...|\n",
            "|         SEX OFFENSE|\n",
            "|     CRIMINAL DAMAGE|\n",
            "|           NARCOTICS|\n",
            "|          KIDNAPPING|\n",
            "|            BURGLARY|\n",
            "|   WEAPONS VIOLATION|\n",
            "|OTHER NARCOTIC VI...|\n",
            "|INTERFERENCE WITH...|\n",
            "+--------------------+\n",
            "\n"
          ]
        }
      ],
      "source": [
        "criminal_df.select(\"PrimaryType\").distinct().show(n = 30)"
      ]
    },
    {
      "cell_type": "markdown",
      "metadata": {
        "id": "1mt2MGy3fTM9"
      },
      "source": [
        "### 7. Merge the similar crime types.\n",
        "\n",
        "#### For example, change 'Primary Type' of cases that have 'Primary Type' as ‘SEX OFFENSE’ or ‘PROSTITUTION’ such that they should have the same 'Primary Type'."
      ]
    },
    {
      "cell_type": "code",
      "execution_count": 168,
      "metadata": {
        "id": "wWoD1s9rfTNF",
        "outputId": "01f21c1d-5055-4b40-9893-bf9587eb6e96",
        "colab": {
          "base_uri": "https://localhost:8080/"
        }
      },
      "outputs": [
        {
          "output_type": "execute_result",
          "data": {
            "text/plain": [
              "28"
            ]
          },
          "metadata": {},
          "execution_count": 168
        }
      ],
      "source": [
        "criminal_df.select(\"PrimaryType\").distinct().count()"
      ]
    },
    {
      "cell_type": "code",
      "execution_count": 169,
      "metadata": {
        "id": "B1rj0K6KfTNF"
      },
      "outputs": [],
      "source": [
        "from pyspark.sql.functions import regexp_replace\n",
        "df1= criminal_df.withColumn('PrimaryType', regexp_replace('PrimaryType', \"CRIM SEXUAL ASSAULT\", \"SEX OFFENSE\"))\\\n",
        "        .withColumn('PrimaryType', regexp_replace('PrimaryType', \"CRIMINAL SEXUAL ASSAULT\", \"SEX OFFENSE\"))\\\n",
        "        .withColumn('PrimaryType', regexp_replace('PrimaryType', \"PROSTITUTION\", \"SEX OFFENSE\"))\\\n",
        "        .withColumn('PrimaryType', regexp_replace('PrimaryType', \" HUMAN TRAFFICKING\", \"KIDNAPPING\"))\\\n",
        "        .withColumn('PrimaryType', regexp_replace('PrimaryType', \"BURGLARY\", \"THEFT\"))\\\n",
        "        .withColumn('PrimaryType', regexp_replace('PrimaryType', \"OTHER NARCOTIC VIOLATION\", \"NARCOTICS\"))\\\n",
        "        .withColumn('PrimaryType', regexp_replace('PrimaryType', \" PUBLIC INDECENCY\", \"SEX OFFENSE\"))\\\n",
        "        .withColumn('PrimaryType', regexp_replace('PrimaryType', \"ROBBERY\", \"THEFT\"))\\\n",
        "        .withColumn('PrimaryType', regexp_replace('PrimaryType', \"BURGLARY\", \"THEFT\"))\\\n",
        "        .withColumn('PrimaryType', regexp_replace('PrimaryType', \"CONCEALED CARRY LICENSE VIOLATION \", \" WEAPONS VIOLATION\"))\\\n",
        "        .withColumn('PrimaryType', regexp_replace('PrimaryType', \"MOTOR VEHICLE THEFT \", \"THEFT\"))\\\n",
        "        .withColumn('PrimaryType', regexp_replace('PrimaryType', \"BATTERY\", \"ASSAULT\"))\\\n",
        "        .withColumn('PrimaryType', regexp_replace('PrimaryType', \"MOTOR VEHICLE THEFT\", \"THEFT\"))\n",
        "\n",
        " \n"
      ]
    },
    {
      "cell_type": "code",
      "execution_count": 170,
      "metadata": {
        "id": "fI96p4MIfTNF",
        "outputId": "68d54213-c66f-4390-80af-2db2c33f7a94",
        "colab": {
          "base_uri": "https://localhost:8080/"
        }
      },
      "outputs": [
        {
          "output_type": "stream",
          "name": "stdout",
          "text": [
            "+--------------------+\n",
            "|         PrimaryType|\n",
            "+--------------------+\n",
            "|OFFENSE INVOLVING...|\n",
            "|PUBLIC PEACE VIOL...|\n",
            "|           OBSCENITY|\n",
            "|            GAMBLING|\n",
            "|   CRIMINAL TRESPASS|\n",
            "|             ASSAULT|\n",
            "|LIQUOR LAW VIOLATION|\n",
            "|               THEFT|\n",
            "|            HOMICIDE|\n",
            "|    PUBLIC INDECENCY|\n",
            "|   HUMAN TRAFFICKING|\n",
            "|        INTIMIDATION|\n",
            "|  DECEPTIVE PRACTICE|\n",
            "|CONCEALED CARRY L...|\n",
            "|         SEX OFFENSE|\n",
            "|     CRIMINAL DAMAGE|\n",
            "|           NARCOTICS|\n",
            "|          KIDNAPPING|\n",
            "|   WEAPONS VIOLATION|\n",
            "|INTERFERENCE WITH...|\n",
            "+--------------------+\n",
            "\n"
          ]
        }
      ],
      "source": [
        "df1.select(\"PrimaryType\").distinct().show(n = 30)"
      ]
    },
    {
      "cell_type": "markdown",
      "metadata": {
        "id": "z01ugyIbfTNG"
      },
      "source": [
        "### 8. Analyze the data and present results:\n",
        "#### a. Show year-wise trend of the crime for last ten years.\n"
      ]
    },
    {
      "cell_type": "code",
      "execution_count": 171,
      "metadata": {
        "id": "u0SvLnLtfTNG"
      },
      "outputs": [],
      "source": [
        "import pandas as pd\n",
        "import matplotlib.pyplot as plt\n",
        "%matplotlib inline"
      ]
    },
    {
      "cell_type": "code",
      "source": [
        "number_of_crimes_per_year = Chicago_crimes.groupBy('Year').count()\n",
        "number_of_crimes_per_year = pd.DataFrame(number_of_crimes_per_year.orderBy('Year').rdd.map(lambda e: e.asDict()).collect())\n",
        "number_of_crimes_per_year"
      ],
      "metadata": {
        "colab": {
          "base_uri": "https://localhost:8080/",
          "height": 394
        },
        "id": "e4slc1qr57NG",
        "outputId": "b2fecbb4-e4fb-43bf-b77c-51231eb3a452"
      },
      "execution_count": 172,
      "outputs": [
        {
          "output_type": "execute_result",
          "data": {
            "text/plain": [
              "    Year   count\n",
              "0   2012  331752\n",
              "1   2013  302723\n",
              "2   2014   86230\n",
              "3   2015  208568\n",
              "4   2016  263000\n",
              "5   2017  262097\n",
              "6   2018  261366\n",
              "7   2019  159126\n",
              "8   2020   24772\n",
              "9   2021    3229\n",
              "10  2022     331"
            ],
            "text/html": [
              "\n",
              "  <div id=\"df-aa0e1603-b2fa-4a37-9986-6d29ee608005\">\n",
              "    <div class=\"colab-df-container\">\n",
              "      <div>\n",
              "<style scoped>\n",
              "    .dataframe tbody tr th:only-of-type {\n",
              "        vertical-align: middle;\n",
              "    }\n",
              "\n",
              "    .dataframe tbody tr th {\n",
              "        vertical-align: top;\n",
              "    }\n",
              "\n",
              "    .dataframe thead th {\n",
              "        text-align: right;\n",
              "    }\n",
              "</style>\n",
              "<table border=\"1\" class=\"dataframe\">\n",
              "  <thead>\n",
              "    <tr style=\"text-align: right;\">\n",
              "      <th></th>\n",
              "      <th>Year</th>\n",
              "      <th>count</th>\n",
              "    </tr>\n",
              "  </thead>\n",
              "  <tbody>\n",
              "    <tr>\n",
              "      <th>0</th>\n",
              "      <td>2012</td>\n",
              "      <td>331752</td>\n",
              "    </tr>\n",
              "    <tr>\n",
              "      <th>1</th>\n",
              "      <td>2013</td>\n",
              "      <td>302723</td>\n",
              "    </tr>\n",
              "    <tr>\n",
              "      <th>2</th>\n",
              "      <td>2014</td>\n",
              "      <td>86230</td>\n",
              "    </tr>\n",
              "    <tr>\n",
              "      <th>3</th>\n",
              "      <td>2015</td>\n",
              "      <td>208568</td>\n",
              "    </tr>\n",
              "    <tr>\n",
              "      <th>4</th>\n",
              "      <td>2016</td>\n",
              "      <td>263000</td>\n",
              "    </tr>\n",
              "    <tr>\n",
              "      <th>5</th>\n",
              "      <td>2017</td>\n",
              "      <td>262097</td>\n",
              "    </tr>\n",
              "    <tr>\n",
              "      <th>6</th>\n",
              "      <td>2018</td>\n",
              "      <td>261366</td>\n",
              "    </tr>\n",
              "    <tr>\n",
              "      <th>7</th>\n",
              "      <td>2019</td>\n",
              "      <td>159126</td>\n",
              "    </tr>\n",
              "    <tr>\n",
              "      <th>8</th>\n",
              "      <td>2020</td>\n",
              "      <td>24772</td>\n",
              "    </tr>\n",
              "    <tr>\n",
              "      <th>9</th>\n",
              "      <td>2021</td>\n",
              "      <td>3229</td>\n",
              "    </tr>\n",
              "    <tr>\n",
              "      <th>10</th>\n",
              "      <td>2022</td>\n",
              "      <td>331</td>\n",
              "    </tr>\n",
              "  </tbody>\n",
              "</table>\n",
              "</div>\n",
              "      <button class=\"colab-df-convert\" onclick=\"convertToInteractive('df-aa0e1603-b2fa-4a37-9986-6d29ee608005')\"\n",
              "              title=\"Convert this dataframe to an interactive table.\"\n",
              "              style=\"display:none;\">\n",
              "        \n",
              "  <svg xmlns=\"http://www.w3.org/2000/svg\" height=\"24px\"viewBox=\"0 0 24 24\"\n",
              "       width=\"24px\">\n",
              "    <path d=\"M0 0h24v24H0V0z\" fill=\"none\"/>\n",
              "    <path d=\"M18.56 5.44l.94 2.06.94-2.06 2.06-.94-2.06-.94-.94-2.06-.94 2.06-2.06.94zm-11 1L8.5 8.5l.94-2.06 2.06-.94-2.06-.94L8.5 2.5l-.94 2.06-2.06.94zm10 10l.94 2.06.94-2.06 2.06-.94-2.06-.94-.94-2.06-.94 2.06-2.06.94z\"/><path d=\"M17.41 7.96l-1.37-1.37c-.4-.4-.92-.59-1.43-.59-.52 0-1.04.2-1.43.59L10.3 9.45l-7.72 7.72c-.78.78-.78 2.05 0 2.83L4 21.41c.39.39.9.59 1.41.59.51 0 1.02-.2 1.41-.59l7.78-7.78 2.81-2.81c.8-.78.8-2.07 0-2.86zM5.41 20L4 18.59l7.72-7.72 1.47 1.35L5.41 20z\"/>\n",
              "  </svg>\n",
              "      </button>\n",
              "      \n",
              "  <style>\n",
              "    .colab-df-container {\n",
              "      display:flex;\n",
              "      flex-wrap:wrap;\n",
              "      gap: 12px;\n",
              "    }\n",
              "\n",
              "    .colab-df-convert {\n",
              "      background-color: #E8F0FE;\n",
              "      border: none;\n",
              "      border-radius: 50%;\n",
              "      cursor: pointer;\n",
              "      display: none;\n",
              "      fill: #1967D2;\n",
              "      height: 32px;\n",
              "      padding: 0 0 0 0;\n",
              "      width: 32px;\n",
              "    }\n",
              "\n",
              "    .colab-df-convert:hover {\n",
              "      background-color: #E2EBFA;\n",
              "      box-shadow: 0px 1px 2px rgba(60, 64, 67, 0.3), 0px 1px 3px 1px rgba(60, 64, 67, 0.15);\n",
              "      fill: #174EA6;\n",
              "    }\n",
              "\n",
              "    [theme=dark] .colab-df-convert {\n",
              "      background-color: #3B4455;\n",
              "      fill: #D2E3FC;\n",
              "    }\n",
              "\n",
              "    [theme=dark] .colab-df-convert:hover {\n",
              "      background-color: #434B5C;\n",
              "      box-shadow: 0px 1px 3px 1px rgba(0, 0, 0, 0.15);\n",
              "      filter: drop-shadow(0px 1px 2px rgba(0, 0, 0, 0.3));\n",
              "      fill: #FFFFFF;\n",
              "    }\n",
              "  </style>\n",
              "\n",
              "      <script>\n",
              "        const buttonEl =\n",
              "          document.querySelector('#df-aa0e1603-b2fa-4a37-9986-6d29ee608005 button.colab-df-convert');\n",
              "        buttonEl.style.display =\n",
              "          google.colab.kernel.accessAllowed ? 'block' : 'none';\n",
              "\n",
              "        async function convertToInteractive(key) {\n",
              "          const element = document.querySelector('#df-aa0e1603-b2fa-4a37-9986-6d29ee608005');\n",
              "          const dataTable =\n",
              "            await google.colab.kernel.invokeFunction('convertToInteractive',\n",
              "                                                     [key], {});\n",
              "          if (!dataTable) return;\n",
              "\n",
              "          const docLinkHtml = 'Like what you see? Visit the ' +\n",
              "            '<a target=\"_blank\" href=https://colab.research.google.com/notebooks/data_table.ipynb>data table notebook</a>'\n",
              "            + ' to learn more about interactive tables.';\n",
              "          element.innerHTML = '';\n",
              "          dataTable['output_type'] = 'display_data';\n",
              "          await google.colab.output.renderOutput(dataTable, element);\n",
              "          const docLink = document.createElement('div');\n",
              "          docLink.innerHTML = docLinkHtml;\n",
              "          element.appendChild(docLink);\n",
              "        }\n",
              "      </script>\n",
              "    </div>\n",
              "  </div>\n",
              "  "
            ]
          },
          "metadata": {},
          "execution_count": 172
        }
      ]
    },
    {
      "cell_type": "code",
      "execution_count": 173,
      "metadata": {
        "id": "pZIMUCYUfTNG",
        "outputId": "a584c9b1-d741-461c-9bc3-7c4d65d98bc5",
        "colab": {
          "base_uri": "https://localhost:8080/",
          "height": 447
        }
      },
      "outputs": [
        {
          "output_type": "display_data",
          "data": {
            "text/plain": [
              "<Figure size 1440x720 with 1 Axes>"
            ],
            "image/png": "[encoded data removed]"
          },
          "metadata": {
            "needs_background": "light"
          }
        }
      ],
      "source": [
        "number_of_crimes_per_year = number_of_crimes_per_year.sort_values(by = \"Year\")\n",
        "\n",
        "number_of_crimes_per_year.plot(figsize = (20,10), kind = \"bar\",\n",
        "                               x = \"Year\", y = \"count\", legend = False)\n",
        "\n",
        "plt.xlabel(\"Year\", fontsize = 20)\n",
        "plt.ylabel(\"Number of Crimes\", fontsize = 20)\n",
        "plt.title(\"The number of Crimes in Chicago\", fontsize = 28)\n",
        "plt.xticks(size = 18)\n",
        "plt.yticks(size = 18)\n",
        "plt.show()"
      ]
    },
    {
      "cell_type": "markdown",
      "source": [
        "The highest number of accident were seen in 2012."
      ],
      "metadata": {
        "id": "9fi8fGzZ7Nc7"
      }
    },
    {
      "cell_type": "markdown",
      "metadata": {
        "id": "m8mTyPqTfTNG"
      },
      "source": [
        "#### b. Find out at which hour of the day crime is highest.\n"
      ]
    },
    {
      "cell_type": "code",
      "source": [
        "from pyspark.sql.functions import date_format\n",
        "df2 = df1.withColumn(\"HourOfDay\", date_format(\"Date&time\",\"H\"))"
      ],
      "metadata": {
        "id": "k3LCzyZcBKi5"
      },
      "execution_count": 175,
      "outputs": []
    },
    {
      "cell_type": "code",
      "source": [
        "df2.printSchema()"
      ],
      "metadata": {
        "colab": {
          "base_uri": "https://localhost:8080/"
        },
        "id": "4lFv1K5hAJug",
        "outputId": "26a1fe0e-c709-409e-9310-332e5d21f68b"
      },
      "execution_count": 176,
      "outputs": [
        {
          "output_type": "stream",
          "name": "stdout",
          "text": [
            "root\n",
            " |-- ID: string (nullable = true)\n",
            " |-- CaseNumber: string (nullable = true)\n",
            " |-- Block: string (nullable = true)\n",
            " |-- IUCR: string (nullable = true)\n",
            " |-- PrimaryType: string (nullable = true)\n",
            " |-- Description: string (nullable = true)\n",
            " |-- LocationDescription: string (nullable = true)\n",
            " |-- Arrest: boolean (nullable = true)\n",
            " |-- Domestic: boolean (nullable = true)\n",
            " |-- Beat: string (nullable = true)\n",
            " |-- District: string (nullable = true)\n",
            " |-- Ward: string (nullable = true)\n",
            " |-- CommunityArea: string (nullable = true)\n",
            " |-- FBICode: string (nullable = true)\n",
            " |-- XCoordinate: double (nullable = true)\n",
            " |-- YCoordinate: double (nullable = true)\n",
            " |-- Year: integer (nullable = true)\n",
            " |-- UpdatedOn: date (nullable = true)\n",
            " |-- Latitude: double (nullable = true)\n",
            " |-- Longitude: double (nullable = true)\n",
            " |-- Location: string (nullable = true)\n",
            " |-- hour: integer (nullable = true)\n",
            " |-- Date&time: timestamp (nullable = true)\n",
            " |-- HourOfDay: string (nullable = true)\n",
            "\n"
          ]
        }
      ]
    },
    {
      "cell_type": "code",
      "execution_count": 177,
      "metadata": {
        "id": "4lkgXn88fTNH"
      },
      "outputs": [],
      "source": [
        "import seaborn as sns"
      ]
    },
    {
      "cell_type": "code",
      "execution_count": 178,
      "metadata": {
        "id": "4Uf_qeMWfTNH",
        "outputId": "d85f29d7-a43f-486f-b769-95721aeb0588",
        "colab": {
          "base_uri": "https://localhost:8080/",
          "height": 802
        }
      },
      "outputs": [
        {
          "output_type": "execute_result",
          "data": {
            "text/plain": [
              "    count  hours\n",
              "15  14113     23\n",
              "1   14998     22\n",
              "18  14075     21\n",
              "7   13218     20\n",
              "9   12693     19\n",
              "23  12806     18\n",
              "11  12053     17\n",
              "5   11905     16\n",
              "10  11183     15\n",
              "20  10529     14\n",
              "3   10235     13\n",
              "0   11803     12\n",
              "19  11265     11\n",
              "17  11070     10\n",
              "12  10506      9\n",
              "14   8994      8\n",
              "16   6821      7\n",
              "4    5493      6\n",
              "8    5352      5\n",
              "13   6680      4\n",
              "6    8388      3\n",
              "21  10208      2\n",
              "2   11605      1\n",
              "22  14633      0"
            ],
            "text/html": [
              "\n",
              "  <div id=\"df-dc0b46ef-dd81-4625-b5f1-f270bc4e7a95\">\n",
              "    <div class=\"colab-df-container\">\n",
              "      <div>\n",
              "<style scoped>\n",
              "    .dataframe tbody tr th:only-of-type {\n",
              "        vertical-align: middle;\n",
              "    }\n",
              "\n",
              "    .dataframe tbody tr th {\n",
              "        vertical-align: top;\n",
              "    }\n",
              "\n",
              "    .dataframe thead th {\n",
              "        text-align: right;\n",
              "    }\n",
              "</style>\n",
              "<table border=\"1\" class=\"dataframe\">\n",
              "  <thead>\n",
              "    <tr style=\"text-align: right;\">\n",
              "      <th></th>\n",
              "      <th>count</th>\n",
              "      <th>hours</th>\n",
              "    </tr>\n",
              "  </thead>\n",
              "  <tbody>\n",
              "    <tr>\n",
              "      <th>15</th>\n",
              "      <td>14113</td>\n",
              "      <td>23</td>\n",
              "    </tr>\n",
              "    <tr>\n",
              "      <th>1</th>\n",
              "      <td>14998</td>\n",
              "      <td>22</td>\n",
              "    </tr>\n",
              "    <tr>\n",
              "      <th>18</th>\n",
              "      <td>14075</td>\n",
              "      <td>21</td>\n",
              "    </tr>\n",
              "    <tr>\n",
              "      <th>7</th>\n",
              "      <td>13218</td>\n",
              "      <td>20</td>\n",
              "    </tr>\n",
              "    <tr>\n",
              "      <th>9</th>\n",
              "      <td>12693</td>\n",
              "      <td>19</td>\n",
              "    </tr>\n",
              "    <tr>\n",
              "      <th>23</th>\n",
              "      <td>12806</td>\n",
              "      <td>18</td>\n",
              "    </tr>\n",
              "    <tr>\n",
              "      <th>11</th>\n",
              "      <td>12053</td>\n",
              "      <td>17</td>\n",
              "    </tr>\n",
              "    <tr>\n",
              "      <th>5</th>\n",
              "      <td>11905</td>\n",
              "      <td>16</td>\n",
              "    </tr>\n",
              "    <tr>\n",
              "      <th>10</th>\n",
              "      <td>11183</td>\n",
              "      <td>15</td>\n",
              "    </tr>\n",
              "    <tr>\n",
              "      <th>20</th>\n",
              "      <td>10529</td>\n",
              "      <td>14</td>\n",
              "    </tr>\n",
              "    <tr>\n",
              "      <th>3</th>\n",
              "      <td>10235</td>\n",
              "      <td>13</td>\n",
              "    </tr>\n",
              "    <tr>\n",
              "      <th>0</th>\n",
              "      <td>11803</td>\n",
              "      <td>12</td>\n",
              "    </tr>\n",
              "    <tr>\n",
              "      <th>19</th>\n",
              "      <td>11265</td>\n",
              "      <td>11</td>\n",
              "    </tr>\n",
              "    <tr>\n",
              "      <th>17</th>\n",
              "      <td>11070</td>\n",
              "      <td>10</td>\n",
              "    </tr>\n",
              "    <tr>\n",
              "      <th>12</th>\n",
              "      <td>10506</td>\n",
              "      <td>9</td>\n",
              "    </tr>\n",
              "    <tr>\n",
              "      <th>14</th>\n",
              "      <td>8994</td>\n",
              "      <td>8</td>\n",
              "    </tr>\n",
              "    <tr>\n",
              "      <th>16</th>\n",
              "      <td>6821</td>\n",
              "      <td>7</td>\n",
              "    </tr>\n",
              "    <tr>\n",
              "      <th>4</th>\n",
              "      <td>5493</td>\n",
              "      <td>6</td>\n",
              "    </tr>\n",
              "    <tr>\n",
              "      <th>8</th>\n",
              "      <td>5352</td>\n",
              "      <td>5</td>\n",
              "    </tr>\n",
              "    <tr>\n",
              "      <th>13</th>\n",
              "      <td>6680</td>\n",
              "      <td>4</td>\n",
              "    </tr>\n",
              "    <tr>\n",
              "      <th>6</th>\n",
              "      <td>8388</td>\n",
              "      <td>3</td>\n",
              "    </tr>\n",
              "    <tr>\n",
              "      <th>21</th>\n",
              "      <td>10208</td>\n",
              "      <td>2</td>\n",
              "    </tr>\n",
              "    <tr>\n",
              "      <th>2</th>\n",
              "      <td>11605</td>\n",
              "      <td>1</td>\n",
              "    </tr>\n",
              "    <tr>\n",
              "      <th>22</th>\n",
              "      <td>14633</td>\n",
              "      <td>0</td>\n",
              "    </tr>\n",
              "  </tbody>\n",
              "</table>\n",
              "</div>\n",
              "      <button class=\"colab-df-convert\" onclick=\"convertToInteractive('df-dc0b46ef-dd81-4625-b5f1-f270bc4e7a95')\"\n",
              "              title=\"Convert this dataframe to an interactive table.\"\n",
              "              style=\"display:none;\">\n",
              "        \n",
              "  <svg xmlns=\"http://www.w3.org/2000/svg\" height=\"24px\"viewBox=\"0 0 24 24\"\n",
              "       width=\"24px\">\n",
              "    <path d=\"M0 0h24v24H0V0z\" fill=\"none\"/>\n",
              "    <path d=\"M18.56 5.44l.94 2.06.94-2.06 2.06-.94-2.06-.94-.94-2.06-.94 2.06-2.06.94zm-11 1L8.5 8.5l.94-2.06 2.06-.94-2.06-.94L8.5 2.5l-.94 2.06-2.06.94zm10 10l.94 2.06.94-2.06 2.06-.94-2.06-.94-.94-2.06-.94 2.06-2.06.94z\"/><path d=\"M17.41 7.96l-1.37-1.37c-.4-.4-.92-.59-1.43-.59-.52 0-1.04.2-1.43.59L10.3 9.45l-7.72 7.72c-.78.78-.78 2.05 0 2.83L4 21.41c.39.39.9.59 1.41.59.51 0 1.02-.2 1.41-.59l7.78-7.78 2.81-2.81c.8-.78.8-2.07 0-2.86zM5.41 20L4 18.59l7.72-7.72 1.47 1.35L5.41 20z\"/>\n",
              "  </svg>\n",
              "      </button>\n",
              "      \n",
              "  <style>\n",
              "    .colab-df-container {\n",
              "      display:flex;\n",
              "      flex-wrap:wrap;\n",
              "      gap: 12px;\n",
              "    }\n",
              "\n",
              "    .colab-df-convert {\n",
              "      background-color: #E8F0FE;\n",
              "      border: none;\n",
              "      border-radius: 50%;\n",
              "      cursor: pointer;\n",
              "      display: none;\n",
              "      fill: #1967D2;\n",
              "      height: 32px;\n",
              "      padding: 0 0 0 0;\n",
              "      width: 32px;\n",
              "    }\n",
              "\n",
              "    .colab-df-convert:hover {\n",
              "      background-color: #E2EBFA;\n",
              "      box-shadow: 0px 1px 2px rgba(60, 64, 67, 0.3), 0px 1px 3px 1px rgba(60, 64, 67, 0.15);\n",
              "      fill: #174EA6;\n",
              "    }\n",
              "\n",
              "    [theme=dark] .colab-df-convert {\n",
              "      background-color: #3B4455;\n",
              "      fill: #D2E3FC;\n",
              "    }\n",
              "\n",
              "    [theme=dark] .colab-df-convert:hover {\n",
              "      background-color: #434B5C;\n",
              "      box-shadow: 0px 1px 3px 1px rgba(0, 0, 0, 0.15);\n",
              "      filter: drop-shadow(0px 1px 2px rgba(0, 0, 0, 0.3));\n",
              "      fill: #FFFFFF;\n",
              "    }\n",
              "  </style>\n",
              "\n",
              "      <script>\n",
              "        const buttonEl =\n",
              "          document.querySelector('#df-dc0b46ef-dd81-4625-b5f1-f270bc4e7a95 button.colab-df-convert');\n",
              "        buttonEl.style.display =\n",
              "          google.colab.kernel.accessAllowed ? 'block' : 'none';\n",
              "\n",
              "        async function convertToInteractive(key) {\n",
              "          const element = document.querySelector('#df-dc0b46ef-dd81-4625-b5f1-f270bc4e7a95');\n",
              "          const dataTable =\n",
              "            await google.colab.kernel.invokeFunction('convertToInteractive',\n",
              "                                                     [key], {});\n",
              "          if (!dataTable) return;\n",
              "\n",
              "          const docLinkHtml = 'Like what you see? Visit the ' +\n",
              "            '<a target=\"_blank\" href=https://colab.research.google.com/notebooks/data_table.ipynb>data table notebook</a>'\n",
              "            + ' to learn more about interactive tables.';\n",
              "          element.innerHTML = '';\n",
              "          dataTable['output_type'] = 'display_data';\n",
              "          await google.colab.output.renderOutput(dataTable, element);\n",
              "          const docLink = document.createElement('div');\n",
              "          docLink.innerHTML = docLinkHtml;\n",
              "          element.appendChild(docLink);\n",
              "        }\n",
              "      </script>\n",
              "    </div>\n",
              "  </div>\n",
              "  "
            ]
          },
          "metadata": {},
          "execution_count": 178
        }
      ],
      "source": [
        "temp = df2.filter(df2[\"Domestic\"] == \"true\")\n",
        "temp = temp.select(df2['HourOfDay'].cast('int').alias('HourOfDay'))\n",
        "hourlyCount  = temp.groupBy([\"HourOfDay\"]).count().collect()\n",
        "\n",
        "\n",
        "hours = [item[0] for item in hourlyCount]\n",
        "count = [item[1] for item in hourlyCount]\n",
        "\n",
        "crime_byHour = {\"count\": count, \"hours\": hours}\n",
        "crime_byHour = pd.DataFrame(crime_byHour)\n",
        "crime_byHour = crime_byHour.sort_values(by = \"hours\", ascending  = False)\n",
        "crime_byHour\n",
        "\n",
        "\n"
      ]
    },
    {
      "cell_type": "code",
      "source": [
        "crime_byHour.plot(figsize = (20,10), kind = \"line\", x = \"hours\", y = \"count\", legend = False)\n",
        "\n",
        "plt.ylabel(\"Number of  Crimes\", fontsize = 20)\n",
        "plt.xlabel(\"Hour\", fontsize = 20)\n",
        "plt.title(\"Crimes by hour\", fontsize = 28)\n",
        "plt.xticks(size = 18)\n",
        "plt.yticks(size = 18)\n",
        "plt.show()"
      ],
      "metadata": {
        "colab": {
          "base_uri": "https://localhost:8080/",
          "height": 433
        },
        "id": "dQGav6_L4oBL",
        "outputId": "d47a2833-0c39-4e69-86fc-89dce8977b6c"
      },
      "execution_count": 179,
      "outputs": [
        {
          "output_type": "display_data",
          "data": {
            "text/plain": [
              "<Figure size 1440x720 with 1 Axes>"
            ],
            "image/png": "[encoded data removed]"
          },
          "metadata": {
            "needs_background": "light"
          }
        }
      ]
    },
    {
      "cell_type": "markdown",
      "source": [
        "In the chart we can see that around 10pm at night is the highest crimes that occur.\n"
      ],
      "metadata": {
        "id": "agpbTszV3Pks"
      }
    },
    {
      "cell_type": "markdown",
      "metadata": {
        "id": "DhqThBMAfTNH"
      },
      "source": [
        "#### c. Find top ten crimes and present them as a bar chart."
      ]
    },
    {
      "cell_type": "code",
      "source": [
        "type_crime = Chicago_crimes.groupBy('PrimaryType').count()\n",
        "type_crime= pd.DataFrame(type_crime.orderBy('count',ascending=False).rdd.map(lambda e: e.asDict()).collect())\n",
        "type_crime = type_crime.head(10)"
      ],
      "metadata": {
        "id": "ylUEToy71yZb"
      },
      "execution_count": 180,
      "outputs": []
    },
    {
      "cell_type": "code",
      "source": [
        "plt.subplots(figsize=(20,10))\n",
        "sns.barplot(data = type_crime, x = 'count', y = 'PrimaryType').set(title='Top 10 Crimes')"
      ],
      "metadata": {
        "colab": {
          "base_uri": "https://localhost:8080/",
          "height": 415
        },
        "id": "0KcIe2Vy2gtS",
        "outputId": "1a5a62b6-4d1a-4594-8353-928aea0106be"
      },
      "execution_count": 181,
      "outputs": [
        {
          "output_type": "execute_result",
          "data": {
            "text/plain": [
              "[Text(0.5, 1.0, 'Top 10 Crimes')]"
            ]
          },
          "metadata": {},
          "execution_count": 181
        },
        {
          "output_type": "display_data",
          "data": {
            "text/plain": [
              "<Figure size 1440x720 with 1 Axes>"
            ],
            "image/png": "[encoded data removed]"
          },
          "metadata": {
            "needs_background": "light"
          }
        }
      ]
    },
    {
      "cell_type": "markdown",
      "source": [
        "Theft was the highest recored crime.\n"
      ],
      "metadata": {
        "id": "TchvZ8hRzVzw"
      }
    }
  ],
  "metadata": {
    "colab": {
      "provenance": [],
      "collapsed_sections": []
    },
    "kernelspec": {
      "display_name": "Python 3 (ipykernel)",
      "language": "python",
      "name": "python3"
    },
    "language_info": {
      "codemirror_mode": {
        "name": "ipython",
        "version": 3
      },
      "file_extension": ".py",
      "mimetype": "text/x-python",
      "name": "python",
      "nbconvert_exporter": "python",
      "pygments_lexer": "ipython3",
      "version": "3.10.6"
    }
  },
  "nbformat": 4,
  "nbformat_minor": 0
}