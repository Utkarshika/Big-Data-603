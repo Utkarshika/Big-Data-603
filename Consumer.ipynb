{
 "cells": [
  {
   "cell_type": "markdown",
   "id": "a3eac03d",
   "metadata": {},
   "source": [
    "# Consumer"
   ]
  },
  {
   "cell_type": "code",
   "execution_count": 11,
   "id": "540fa090",
   "metadata": {},
   "outputs": [
    {
     "name": "stdout",
     "output_type": "stream",
     "text": [
      "Requirement already satisfied: kafka in ./opt/anaconda3/lib/python3.8/site-packages (1.3.5)\r\n"
     ]
    }
   ],
   "source": [
    "!pip install kafka"
   ]
  },
  {
   "cell_type": "code",
   "execution_count": null,
   "id": "ea46dc9f",
   "metadata": {},
   "outputs": [],
   "source": [
    "#importing the necessary libraries\n",
    "\n",
    "import json\n",
    "import pandas as pd\n",
    "import pandas as DataFrame\n",
    "from kafka import KafkaConsumer\n",
    "from time import sleep\n",
    "import time \n",
    "\n",
    "if __name__ == '__main__':\n",
    "    consumer = KafkaConsumer('messgaes',bootstrap_servers=['localhost:9092'])\n",
    "    frame= pd.DataFrame()\n",
    "    t_end = time.time() +60 *60\n",
    "    \n",
    "    for message in consumer:\n",
    "        #loading data from the producer\n",
    "        data= json.loads(message.value) \n",
    "        #extraction of iss_position object\n",
    "        position = data['iss_position']\n",
    "        #flattening the json files\n",
    "        normalized_data = pd.json_normalize(position)\n",
    "        #dataframe conversion\n",
    "        frame2 = pd.dataFrame(normalized_data)\n",
    "        frame = frame.append(frame2)\n",
    "        if time.time()>t_end:\n",
    "            break\n",
    "        "
   ]
  },
  {
   "cell_type": "code",
   "execution_count": null,
   "id": "4f028eeb",
   "metadata": {},
   "outputs": [],
   "source": [
    "import matplotlib.pyplot as plt\n",
    "import pandas as pd\n",
    "import geopandas\n",
    "gdf = geopandas.GeoDataFrame( frame, geometry = geopandas.points_from_xy(frame.longitude, frame.latitude))"
   ]
  },
  {
   "cell_type": "code",
   "execution_count": null,
   "id": "b8dd914c",
   "metadata": {},
   "outputs": [],
   "source": [
    "world_map = geopandas.read_file(geopandas.datasets.get_path('naturaleath_lowers'))\n",
    "\n",
    "fig, ax = plt.subplots(figsize=(12,6))\n",
    "world_map.plot(color =\"grey\", ax=ax)\n",
    "\n",
    "gdf.plot(ax=ax, color='green')\n",
    "plt.show()"
   ]
  },
  {
   "cell_type": "code",
   "execution_count": null,
   "id": "899129df",
   "metadata": {},
   "outputs": [],
   "source": []
  }
 ],
 "metadata": {
  "kernelspec": {
   "display_name": "Python 3",
   "language": "python",
   "name": "python3"
  },
  "language_info": {
   "codemirror_mode": {
    "name": "ipython",
    "version": 3
   },
   "file_extension": ".py",
   "mimetype": "text/x-python",
   "name": "python",
   "nbconvert_exporter": "python",
   "pygments_lexer": "ipython3",
   "version": "3.8.8"
  }
 },
 "nbformat": 4,
 "nbformat_minor": 5
}
